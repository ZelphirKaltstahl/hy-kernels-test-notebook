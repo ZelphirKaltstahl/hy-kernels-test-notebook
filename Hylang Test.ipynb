{
 "cells": [
  {
   "cell_type": "markdown",
   "metadata": {
    "toc": "true"
   },
   "source": [
    "# Table of Contents\n",
    " <p><div class=\"lev1\"><a href=\"#Lists\" data-vivaldi-spatnav-clickable=\"1\"><span class=\"toc-item-num\">1&nbsp;&nbsp;</span>Lists</a></div><div class=\"lev1\"><a href=\"#Tuples\" data-vivaldi-spatnav-clickable=\"1\"><span class=\"toc-item-num\">2&nbsp;&nbsp;</span>Tuples</a></div><div class=\"lev1\"><a href=\"#List-Comprehensions\" data-vivaldi-spatnav-clickable=\"1\"><span class=\"toc-item-num\">3&nbsp;&nbsp;</span>List Comprehensions</a></div><div class=\"lev1\"><a href=\"#Keyword-Arguments\" data-vivaldi-spatnav-clickable=\"1\"><span class=\"toc-item-num\">4&nbsp;&nbsp;</span>Keyword Arguments</a></div><div class=\"lev1\"><a href=\"#OOP\" data-vivaldi-spatnav-clickable=\"1\"><span class=\"toc-item-num\">5&nbsp;&nbsp;</span>OOP</a></div>"
   ]
  },
  {
   "cell_type": "code",
   "execution_count": 6,
   "metadata": {
    "ExecuteTime": {
     "end_time": "2016-09-20T22:44:25.416746",
     "start_time": "2016-09-20T22:44:25.413567"
    },
    "collapsed": false,
    "run_control": {
     "frozen": false,
     "read_only": false
    }
   },
   "outputs": [
    {
     "name": "stdout",
     "output_type": "stream",
     "text": [
      "Hello World!\n"
     ]
    }
   ],
   "source": [
    "(print \"Hello World!\")"
   ]
  },
  {
   "cell_type": "code",
   "execution_count": 7,
   "metadata": {
    "ExecuteTime": {
     "end_time": "2016-09-20T22:44:25.864099",
     "start_time": "2016-09-20T22:44:25.861165"
    },
    "collapsed": false,
    "run_control": {
     "frozen": false,
     "read_only": false
    }
   },
   "outputs": [
    {
     "data": {
      "text/plain": [
       "3"
      ]
     },
     "execution_count": 7,
     "metadata": {},
     "output_type": "execute_result"
    }
   ],
   "source": [
    "(+ 1 1 1)"
   ]
  },
  {
   "cell_type": "code",
   "execution_count": 8,
   "metadata": {
    "ExecuteTime": {
     "end_time": "2016-09-20T22:44:26.384329",
     "start_time": "2016-09-20T22:44:26.379026"
    },
    "collapsed": false,
    "run_control": {
     "frozen": false,
     "read_only": false
    }
   },
   "outputs": [
    {
     "name": "stdout",
     "output_type": "stream",
     "text": [
      "38.0\n"
     ]
    }
   ],
   "source": [
    "(setv result (- (/ (+ 1 3 88) 2) 8))\n",
    "(print result)"
   ]
  },
  {
   "cell_type": "code",
   "execution_count": 9,
   "metadata": {
    "ExecuteTime": {
     "end_time": "2016-09-20T22:44:26.956302",
     "start_time": "2016-09-20T22:44:26.949328"
    },
    "collapsed": false,
    "run_control": {
     "frozen": false,
     "read_only": false
    }
   },
   "outputs": [
    {
     "name": "stdout",
     "output_type": "stream",
     "text": [
      "What is your name? "
     ]
    },
    {
     "name": "stderr",
     "output_type": "stream",
     "text": [
      "\u001b[0;31mTraceback (most recent call last):\n",
      "  File \"/home/xiaolong/development/anaconda3/envs/hylang/lib/python3.4/site-packages/calysto_hy/kernel.py\", line 92, in do_execute_direct\n",
      "    eval(code, self.env)\n",
      "  File \"In [9]\", line 1, in <module>\n",
      "EOFError: EOF when reading a line\n",
      "\n",
      "\u001b[0m"
     ]
    }
   ],
   "source": [
    "(setv name (input \"What is your name? \"))\n",
    "(setv age (input \"What is your age? \"))\n",
    "(print (+ \"Hello \" name \"!  I see you are \" age \" years old.\"))"
   ]
  },
  {
   "cell_type": "code",
   "execution_count": 10,
   "metadata": {
    "ExecuteTime": {
     "end_time": "2016-09-20T22:44:40.640125",
     "start_time": "2016-09-20T22:44:40.636601"
    },
    "collapsed": false,
    "run_control": {
     "frozen": false,
     "read_only": false
    }
   },
   "outputs": [
    {
     "data": {
      "text/plain": [
       "0.5"
      ]
     },
     "execution_count": 10,
     "metadata": {},
     "output_type": "execute_result"
    }
   ],
   "source": [
    "(/ 1 2)"
   ]
  },
  {
   "cell_type": "code",
   "execution_count": 11,
   "metadata": {
    "ExecuteTime": {
     "end_time": "2016-09-20T22:44:41.304670",
     "start_time": "2016-09-20T22:44:41.296734"
    },
    "collapsed": false,
    "run_control": {
     "frozen": false,
     "read_only": false
    }
   },
   "outputs": [
    {
     "name": "stdout",
     "output_type": "stream",
     "text": [
      "<class 'list'>\n",
      "<class 'hy.models.expression.HyExpression'>\n"
     ]
    }
   ],
   "source": [
    "(print (type [\"a\" \"b\" 1 \"2\"]))\n",
    "(print (type '(\"a\" \"b\" 1 \"2\")))"
   ]
  },
  {
   "cell_type": "code",
   "execution_count": 12,
   "metadata": {
    "ExecuteTime": {
     "end_time": "2016-09-20T22:44:57.292469",
     "start_time": "2016-09-20T22:44:57.287175"
    },
    "collapsed": false,
    "run_control": {
     "frozen": false,
     "read_only": false
    }
   },
   "outputs": [
    {
     "name": "stdout",
     "output_type": "stream",
     "text": [
      "this is if true\n"
     ]
    }
   ],
   "source": [
    "(if (= 1 1)\n",
    "  (print \"this is if true\")\n",
    "  (print \"this is if false\"))"
   ]
  },
  {
   "cell_type": "code",
   "execution_count": 13,
   "metadata": {
    "ExecuteTime": {
     "end_time": "2016-09-20T22:44:58.030079",
     "start_time": "2016-09-20T22:44:58.023981"
    },
    "collapsed": false,
    "run_control": {
     "frozen": false,
     "read_only": false
    }
   },
   "outputs": [
    {
     "name": "stdout",
     "output_type": "stream",
     "text": [
      "That variable is jussssst right!\n"
     ]
    }
   ],
   "source": [
    "(setv somevar 33)\n",
    "(cond\n",
    " [(> somevar 50)\n",
    "  (print \"That variable is too big!\")]\n",
    " [(< somevar 10)\n",
    "  (print \"That variable is too small!\")]\n",
    " [true\n",
    "  (print \"That variable is jussssst right!\")])"
   ]
  },
  {
   "cell_type": "code",
   "execution_count": 14,
   "metadata": {
    "ExecuteTime": {
     "end_time": "2016-09-20T22:44:58.725717",
     "start_time": "2016-09-20T22:44:58.719791"
    },
    "collapsed": false,
    "run_control": {
     "frozen": false,
     "read_only": false
    }
   },
   "outputs": [
    {
     "name": "stdout",
     "output_type": "stream",
     "text": [
      "That variable is jussssst right!\n"
     ]
    }
   ],
   "source": [
    "(setv somevar 33)\n",
    "(cond\n",
    " [(> somevar 50) (print \"That variable is too big!\")]\n",
    " [(< somevar 10) (print \"That variable is too small!\")]\n",
    " [true (print \"That variable is jussssst right!\")])"
   ]
  },
  {
   "cell_type": "code",
   "execution_count": 15,
   "metadata": {
    "ExecuteTime": {
     "end_time": "2016-09-20T22:45:04.164458",
     "start_time": "2016-09-20T22:45:04.158776"
    },
    "collapsed": false,
    "run_control": {
     "frozen": false,
     "read_only": false
    }
   },
   "outputs": [
    {
     "name": "stdout",
     "output_type": "stream",
     "text": [
      "this is if true\n",
      "and why not, let's keep talking about how true it is!\n"
     ]
    }
   ],
   "source": [
    "; COMMENT\n",
    "(if (= 1 1)\n",
    "  (do\n",
    "    (print \"this is if true\")\n",
    "    (print \"and why not, let's keep talking about how true it is!\"))\n",
    "  (print \"this one's still simply just false\"))"
   ]
  },
  {
   "cell_type": "code",
   "execution_count": 16,
   "metadata": {
    "ExecuteTime": {
     "end_time": "2016-09-20T22:45:05.297364",
     "start_time": "2016-09-20T22:45:05.283080"
    },
    "collapsed": false,
    "run_control": {
     "frozen": false,
     "read_only": false
    },
    "scrolled": true
   },
   "outputs": [
    {
     "name": "stdout",
     "output_type": "stream",
     "text": [
      "'i' is now at 0\n",
      "'i' is now at 1\n",
      "'i' is now at 2\n",
      "'i' is now at 3\n",
      "'i' is now at 4\n",
      "'i' is now at 5\n",
      "'i' is now at 6\n",
      "'i' is now at 7\n",
      "'i' is now at 8\n",
      "'i' is now at 9\n"
     ]
    }
   ],
   "source": [
    "(for [i (range 10)]\n",
    "  (print (+ \"'i' is now at \" (str i))))"
   ]
  },
  {
   "cell_type": "code",
   "execution_count": 17,
   "metadata": {
    "ExecuteTime": {
     "end_time": "2016-09-20T22:45:13.662642",
     "start_time": "2016-09-20T22:45:13.658043"
    },
    "collapsed": false,
    "run_control": {
     "frozen": false,
     "read_only": false
    }
   },
   "outputs": [
    {
     "name": "stderr",
     "output_type": "stream",
     "text": [
      "\u001b[0;31mTraceback (most recent call last):\n",
      "  File \"/home/xiaolong/development/anaconda3/envs/hylang/lib/python3.4/site-packages/calysto_hy/kernel.py\", line 92, in do_execute_direct\n",
      "    eval(code, self.env)\n",
      "  File \"In [17]\", line 1, in <module>\n",
      "NameError: name 'f' is not defined\n",
      "\n",
      "\u001b[0m"
     ]
    }
   ],
   "source": [
    "(with [f (open \"/tmp/data.in\")]\n",
    "  (print (.read f)))"
   ]
  },
  {
   "cell_type": "code",
   "execution_count": 18,
   "metadata": {
    "ExecuteTime": {
     "end_time": "2016-09-20T22:45:23.680044",
     "start_time": "2016-09-20T22:45:23.674696"
    },
    "collapsed": false,
    "run_control": {
     "frozen": false,
     "read_only": false
    }
   },
   "outputs": [
    {
     "name": "stdout",
     "output_type": "stream",
     "text": [
      "Hey, that path isn't there!\n"
     ]
    }
   ],
   "source": [
    "(import os)\n",
    "(if (os.path.isdir \"/tmp/somedir\")\n",
    "  (os.mkdir \"/tmp/somedir/anotherdir\")\n",
    "  (print \"Hey, that path isn't there!\"))"
   ]
  },
  {
   "cell_type": "code",
   "execution_count": 19,
   "metadata": {
    "ExecuteTime": {
     "end_time": "2016-09-20T22:45:24.235706",
     "start_time": "2016-09-20T22:45:24.229939"
    },
    "collapsed": false,
    "run_control": {
     "frozen": false,
     "read_only": false
    }
   },
   "outputs": [
    {
     "name": "stdout",
     "output_type": "stream",
     "text": [
      "[1, 9, 25, 49, 81, 121, 169, 225, 289, 361, 441, 529, 625, 729, 841, 961, 1089, 1225, 1369, 1521, 1681, 1849, 2025, 2209, 2401, 2601, 2809, 3025, 3249, 3481, 3721, 3969, 4225, 4489, 4761, 5041, 5329, 5625, 5929, 6241, 6561, 6889, 7225, 7569, 7921, 8281, 8649, 9025, 9409, 9801]\n"
     ]
    }
   ],
   "source": [
    "(setv odds-squared\n",
    "  (list-comp\n",
    "    (pow num 2)\n",
    "    (num (range 100))\n",
    "    (= (% num 2) 1)))\n",
    "(print odds-squared)"
   ]
  },
  {
   "cell_type": "markdown",
   "metadata": {},
   "source": [
    "# Lists"
   ]
  },
  {
   "cell_type": "markdown",
   "metadata": {},
   "source": [
    "# Tuples"
   ]
  },
  {
   "cell_type": "code",
   "execution_count": 20,
   "metadata": {
    "ExecuteTime": {
     "end_time": "2016-09-20T22:47:43.255487",
     "start_time": "2016-09-20T22:47:43.251297"
    },
    "collapsed": false,
    "run_control": {
     "frozen": false,
     "read_only": false
    }
   },
   "outputs": [
    {
     "data": {
      "text/plain": [
       "<class 'tuple'>"
      ]
     },
     "execution_count": 20,
     "metadata": {},
     "output_type": "execute_result"
    }
   ],
   "source": [
    "(type (, 1 2 3))"
   ]
  },
  {
   "cell_type": "markdown",
   "metadata": {},
   "source": [
    "# List Comprehensions"
   ]
  },
  {
   "cell_type": "code",
   "execution_count": 21,
   "metadata": {
    "ExecuteTime": {
     "end_time": "2016-09-20T22:47:45.618443",
     "start_time": "2016-09-20T22:47:45.613623"
    },
    "collapsed": false,
    "run_control": {
     "frozen": false,
     "read_only": false
    },
    "scrolled": true
   },
   "outputs": [
    {
     "data": {
      "text/plain": [
       "[(0, 'A'), (0, 'B'), (0, 'C'), (0, 'D'), (0, 'E'), (0, 'F'), (0, 'G'), (0, 'H'), (1, 'A'), (1, 'B'), (1, 'C'), (1, 'D'), (1, 'E'), (1, 'F'), (1, 'G'), (1, 'H'), (2, 'A'), (2, 'B'), (2, 'C'), (2, 'D'), (2, 'E'), (2, 'F'), (2, 'G'), (2, 'H'), (3, 'A'), (3, 'B'), (3, 'C'), (3, 'D'), (3, 'E'), (3, 'F'), (3, 'G'), (3, 'H'), (4, 'A'), (4, 'B'), (4, 'C'), (4, 'D'), (4, 'E'), (4, 'F'), (4, 'G'), (4, 'H'), (5, 'A'), (5, 'B'), (5, 'C'), (5, 'D'), (5, 'E'), (5, 'F'), (5, 'G'), (5, 'H'), (6, 'A'), (6, 'B'), (6, 'C'), (6, 'D'), (6, 'E'), (6, 'F'), (6, 'G'), (6, 'H'), (7, 'A'), (7, 'B'), (7, 'C'), (7, 'D'), (7, 'E'), (7, 'F'), (7, 'G'), (7, 'H')]"
      ]
     },
     "execution_count": 21,
     "metadata": {},
     "output_type": "execute_result"
    }
   ],
   "source": [
    "(list-comp\n",
    "  (, x y)\n",
    "  (x (range 8)\n",
    "   y \"ABCDEFGH\"))"
   ]
  },
  {
   "cell_type": "markdown",
   "metadata": {},
   "source": [
    "# Keyword Arguments"
   ]
  },
  {
   "cell_type": "code",
   "execution_count": 22,
   "metadata": {
    "ExecuteTime": {
     "end_time": "2016-09-20T22:47:48.115009",
     "start_time": "2016-09-20T22:47:48.098786"
    },
    "collapsed": false,
    "run_control": {
     "frozen": false,
     "read_only": false
    },
    "scrolled": false
   },
   "outputs": [
    {
     "name": "stdout",
     "output_type": "stream",
     "text": [
      "[1, 2, 3, 4]\n",
      "[1, 2, 3, 42]\n",
      "[1, 2, None, 4]\n",
      "[1, 2, None, 42]\n"
     ]
    }
   ],
   "source": [
    "(defn optional-arg\n",
    "  [pos1 pos2 &optional keyword1 [keyword2 42]]\n",
    "  [pos1 pos2 keyword1 keyword2])\n",
    "(print (optional-arg 1 2 3 4))\n",
    "(print (optional-arg 1 2 3))\n",
    "(print (optional-arg 1 2 None 4))\n",
    "(print (optional-arg 1 2))"
   ]
  },
  {
   "cell_type": "code",
   "execution_count": 23,
   "metadata": {
    "ExecuteTime": {
     "end_time": "2016-09-20T22:47:48.689680",
     "start_time": "2016-09-20T22:47:48.683599"
    },
    "collapsed": false,
    "run_control": {
     "frozen": false,
     "read_only": false
    }
   },
   "outputs": [
    {
     "data": {
      "text/plain": [
       "[1, 2, 4, 3]"
      ]
     },
     "execution_count": 23,
     "metadata": {},
     "output_type": "execute_result"
    }
   ],
   "source": [
    "(setv args [1 2])\n",
    "(setv kwargs {\"keyword2\" 3 \"keyword1\" 4})\n",
    "(apply optional-arg args kwargs)"
   ]
  },
  {
   "cell_type": "code",
   "execution_count": 24,
   "metadata": {
    "ExecuteTime": {
     "end_time": "2016-09-20T22:47:49.189602",
     "start_time": "2016-09-20T22:47:49.183920"
    },
    "collapsed": false,
    "run_control": {
     "frozen": false,
     "read_only": false
    }
   },
   "outputs": [
    {
     "data": {
      "text/plain": [
       "['key1', 'key2']"
      ]
     },
     "execution_count": 24,
     "metadata": {},
     "output_type": "execute_result"
    }
   ],
   "source": [
    "(defn another-style [&key {\"key1\" \"val1\" \"key2\" \"val2\"}]\n",
    "  [key1 key2])\n",
    "(setv kwargs {\"key1\" 1 \"key2\" 2})\n",
    "(apply another-style kwargs)"
   ]
  },
  {
   "cell_type": "code",
   "execution_count": 25,
   "metadata": {
    "ExecuteTime": {
     "end_time": "2016-09-20T22:47:55.643519",
     "start_time": "2016-09-20T22:47:55.639898"
    },
    "collapsed": false,
    "run_control": {
     "frozen": false,
     "read_only": false
    },
    "scrolled": true
   },
   "outputs": [
    {
     "name": "stderr",
     "output_type": "stream",
     "text": [
      "\u001b[0;31mTraceback (most recent call last):\n",
      "  File \"/home/xiaolong/development/anaconda3/envs/hylang/lib/python3.4/site-packages/calysto_hy/kernel.py\", line 92, in do_execute_direct\n",
      "    eval(code, self.env)\n",
      "  File \"In [25]\", line 1, in <module>\n",
      "TypeError: unsupported operand type(s) for +: 'int' and 'str'\n",
      "\n",
      "\u001b[0m"
     ]
    }
   ],
   "source": [
    "(->> (str) (+ 1 2))"
   ]
  },
  {
   "cell_type": "markdown",
   "metadata": {},
   "source": [
    "# OOP"
   ]
  },
  {
   "cell_type": "markdown",
   "metadata": {},
   "source": [
    "A class."
   ]
  },
  {
   "cell_type": "code",
   "execution_count": 26,
   "metadata": {
    "ExecuteTime": {
     "end_time": "2016-09-20T22:48:00.615212",
     "start_time": "2016-09-20T22:48:00.609650"
    },
    "collapsed": false,
    "run_control": {
     "frozen": false,
     "read_only": false
    }
   },
   "outputs": [],
   "source": [
    "(defclass FooBar [object]\n",
    "  \"Yet Another Example Class\"\n",
    "  [[--init--\n",
    "    (fn [self x]\n",
    "      (setv self.x x)\n",
    "      ; Currently needed for --init-- because __init__ needs None\n",
    "      ; Hopefully this will go away :)\n",
    "      None)]\n",
    "   [get-x\n",
    "    (fn [self]\n",
    "      \"Return our copy of x\"\n",
    "      self.x)]])"
   ]
  },
  {
   "cell_type": "markdown",
   "metadata": {},
   "source": [
    "A class with class variables."
   ]
  },
  {
   "cell_type": "code",
   "execution_count": 27,
   "metadata": {
    "ExecuteTime": {
     "end_time": "2016-09-20T22:48:02.266067",
     "start_time": "2016-09-20T22:48:02.260581"
    },
    "collapsed": false,
    "run_control": {
     "frozen": false,
     "read_only": false
    },
    "scrolled": true
   },
   "outputs": [
    {
     "name": "stderr",
     "output_type": "stream",
     "text": [
      "\u001b[0;31mTraceback (most recent call last):\n",
      "  File \"/home/xiaolong/development/anaconda3/envs/hylang/lib/python3.4/site-packages/calysto_hy/kernel.py\", line 92, in do_execute_direct\n",
      "    eval(code, self.env)\n",
      "  File \"In [27]\", line 1, in <module>\n",
      "NameError: name 'models' is not defined\n",
      "\n",
      "\u001b[0m"
     ]
    }
   ],
   "source": [
    "(defclass Customer [models.Model]\n",
    "  [[name (models.CharField :max-length 255)]\n",
    "   [address (models.TextField)]\n",
    "   [notes (models.TextField)]])"
   ]
  },
  {
   "cell_type": "code",
   "execution_count": 28,
   "metadata": {
    "ExecuteTime": {
     "end_time": "2016-09-20T22:48:04.500362",
     "start_time": "2016-09-20T22:48:04.493001"
    },
    "collapsed": false,
    "run_control": {
     "frozen": false,
     "read_only": false
    }
   },
   "outputs": [
    {
     "name": "stderr",
     "output_type": "stream",
     "text": [
      "\u001b[0;31mTraceback (most recent call last):\n",
      "  File \"/home/xiaolong/development/anaconda3/envs/hylang/lib/python3.4/site-packages/calysto_hy/kernel.py\", line 92, in do_execute_direct\n",
      "    eval(code, self.env)\n",
      "  File \"In [28]\", line 1, in <module>\n",
      "EOFError: EOF when reading a line\n",
      "\n",
      "\u001b[0m"
     ]
    }
   ],
   "source": [
    "(-> (input) (str))  ; execution from left (inner) to right (outer)\n",
    "(->> (str) (input))  ; execution from right (outer) to left (inner)\n",
    ";"
   ]
  },
  {
   "cell_type": "code",
   "execution_count": null,
   "metadata": {
    "collapsed": true
   },
   "outputs": [],
   "source": []
  }
 ],
 "metadata": {
  "kernelspec": {
   "display_name": "Calysto Hy",
   "language": "hy",
   "name": "calysto_hy"
  },
  "toc": {
   "toc_cell": true,
   "toc_number_sections": true,
   "toc_threshold": "3",
   "toc_window_display": true
  }
 },
 "nbformat": 4,
 "nbformat_minor": 0
}
